{
  "nbformat": 4,
  "nbformat_minor": 0,
  "metadata": {
    "colab": {
      "name": "modle.ipynb",
      "provenance": []
    },
    "kernelspec": {
      "name": "python3",
      "display_name": "Python 3"
    },
    "accelerator": "GPU"
  },
  "cells": [
    {
      "cell_type": "code",
      "metadata": {
        "id": "WtRIYxvmZKvH",
        "colab_type": "code",
        "outputId": "d6e526c5-4ca6-4d4d-e469-d14f2dda88d5",
        "colab": {
          "base_uri": "https://localhost:8080/",
          "height": 34
        }
      },
      "source": [
        "from google.colab import drive\n",
        "drive.mount('/content/drive')"
      ],
      "execution_count": 26,
      "outputs": [
        {
          "output_type": "stream",
          "text": [
            "Drive already mounted at /content/drive; to attempt to forcibly remount, call drive.mount(\"/content/drive\", force_remount=True).\n"
          ],
          "name": "stdout"
        }
      ]
    },
    {
      "cell_type": "code",
      "metadata": {
        "id": "7pcE0qi6bI-A",
        "colab_type": "code",
        "outputId": "3252dbf9-2243-4a25-de7f-3158a9abe55b",
        "colab": {
          "base_uri": "https://localhost:8080/",
          "height": 52
        }
      },
      "source": [
        "# Import the data into python lists\n",
        "\n",
        "train_raw=[]\n",
        "for line in open('/content/drive/My Drive/movie_data/full_train.txt','r'):\n",
        "  train_raw.append(line.strip())\n",
        "  \n",
        "test_raw=[]\n",
        "for line in open('/content/drive/My Drive/movie_data/full_test.txt','r'):\n",
        "  test_raw.append(line.strip())\n",
        "  \n",
        "    \n",
        "    \n",
        "    \n",
        "print(len(train_raw))\n",
        "print(len(test_raw))"
      ],
      "execution_count": 27,
      "outputs": [
        {
          "output_type": "stream",
          "text": [
            "25000\n",
            "25000\n"
          ],
          "name": "stdout"
        }
      ]
    },
    {
      "cell_type": "code",
      "metadata": {
        "id": "2MyRkGwqt6k9",
        "colab_type": "code",
        "outputId": "81ee4e3f-1a9b-43d9-dd38-ca528801638e",
        "colab": {
          "base_uri": "https://localhost:8080/",
          "height": 54
        }
      },
      "source": [
        "# cleaning the data from the html debrie\n",
        "import re\n",
        "def get_clean(data):\n",
        "    \n",
        "    data=[re.sub('<.*?>',' ',doc) for doc in data]\n",
        "    return data\n",
        "        \n",
        "cleantrain=get_clean(train_raw)\n",
        "cleantest=get_clean(test_raw)\n",
        "cleantrain[900]"
      ],
      "execution_count": 28,
      "outputs": [
        {
          "output_type": "execute_result",
          "data": {
            "text/plain": [
              "'Very nicely done movie. It does stay in your memory. Better billed as a romance than flying or war, altho the flying parts are realistic and almost error free. Flying buffs like myself will enjoy this movie even if attracted by the airplanes, unless they have no sensitivity or have never been in love.  Fun watching early Crowe. He is good and exudes charm. His reading of \"High Flight\" is superb.  cheers, Boom'"
            ]
          },
          "metadata": {
            "tags": []
          },
          "execution_count": 28
        }
      ]
    },
    {
      "cell_type": "code",
      "metadata": {
        "id": "MNM704vPBB0M",
        "colab_type": "code",
        "colab": {}
      },
      "source": [
        "labels=[1 if i <12500 else 0 for i in range(25000)]\n"
      ],
      "execution_count": 0,
      "outputs": []
    },
    {
      "cell_type": "code",
      "metadata": {
        "colab_type": "code",
        "outputId": "c62bb8da-52e0-453d-ea9e-143b01e24caf",
        "id": "iL3jLA6h8Izk",
        "colab": {
          "base_uri": "https://localhost:8080/",
          "height": 52
        }
      },
      "source": [
        "# feature extraction step, tekonization and encoding\n",
        "from keras.preprocessing.text import Tokenizer\n",
        "from keras.preprocessing.sequence import pad_sequences\n",
        "import numpy as np\n",
        "\n",
        "\n",
        "vocb_size=10000\n",
        "sent_size=800\n",
        "\n",
        "tokenizer = Tokenizer(num_words=vocb_size) \n",
        "tokenizer.fit_on_texts(cleantrain) \n",
        "\n",
        "\n",
        "def tokenize(data,sent_size):\n",
        "    sequence = tokenizer.texts_to_sequences(data) \n",
        "    tokend = pad_sequences(sequence, maxlen=sent_size)\n",
        "    return tokend\n",
        "\n",
        "\n",
        "X=tokenize(cleantrain,sent_size)\n",
        "X_test=tokenize(cleantest,sent_size)\n",
        "labels = np.asarray(labels)\n",
        "print(\"Shape of data tensor: \", X.shape)\n",
        "print(\"Shape of label tensor: \", labels.shape)\n",
        "\n",
        "\n"
      ],
      "execution_count": 30,
      "outputs": [
        {
          "output_type": "stream",
          "text": [
            "Shape of data tensor:  (25000, 800)\n",
            "Shape of label tensor:  (25000,)\n"
          ],
          "name": "stdout"
        }
      ]
    },
    {
      "cell_type": "code",
      "metadata": {
        "id": "rsXps0QiA8Fa",
        "colab_type": "code",
        "outputId": "2e154564-da60-4e68-e129-52e3961fcc8a",
        "colab": {
          "base_uri": "https://localhost:8080/",
          "height": 34
        }
      },
      "source": [
        "X.shape[0]*0.8"
      ],
      "execution_count": 31,
      "outputs": [
        {
          "output_type": "execute_result",
          "data": {
            "text/plain": [
              "20000.0"
            ]
          },
          "metadata": {
            "tags": []
          },
          "execution_count": 31
        }
      ]
    },
    {
      "cell_type": "code",
      "metadata": {
        "id": "x72T_OX4Ku2x",
        "colab_type": "code",
        "colab": {}
      },
      "source": [
        "# plotting the modle's metrics\n",
        "import matplotlib.pyplot as plt\n",
        "plt.style.use('ggplot')\n",
        "\n",
        "def plot_history(history):\n",
        "    acc = history.history['acc']\n",
        "    val_acc = history.history['val_acc']\n",
        "    loss = history.history['loss']\n",
        "    val_loss = history.history['val_loss']\n",
        "    x = range(1, len(acc) + 1)\n",
        "\n",
        "    plt.figure(figsize=(12, 5))\n",
        "    plt.subplot(1, 2, 1)\n",
        "    plt.plot(x, acc, 'b', label='Training acc')\n",
        "    plt.plot(x, val_acc, 'r', label='Validation acc')\n",
        "    plt.title('Training and validation accuracy')\n",
        "    plt.legend()\n",
        "    plt.subplot(1, 2, 2)\n",
        "    plt.plot(x, loss, 'b', label='Training loss')\n",
        "    plt.plot(x, val_loss, 'r', label='Validation loss')\n",
        "    plt.title('Training and validation loss')\n",
        "    plt.legend()"
      ],
      "execution_count": 0,
      "outputs": []
    },
    {
      "cell_type": "code",
      "metadata": {
        "id": "bJjOOTjtBRzL",
        "colab_type": "code",
        "outputId": "f733c50b-d8f8-4f4b-adbb-e2c61e3962f1",
        "colab": {
          "base_uri": "https://localhost:8080/",
          "height": 34
        }
      },
      "source": [
        "# Splitting the training dataset\n",
        "import random \n",
        "\n",
        "ids=np.arange(X.shape[0])\n",
        "np.random.shuffle(ids)\n",
        "X = X[ids]\n",
        "y = labels[ids]\n",
        "\n",
        "mark=int(X.shape[0]*0.8)\n",
        "X_train=X[:mark]\n",
        "X_val=X[mark:]\n",
        "y_train=y[:mark]\n",
        "y_val= y[mark:]\n",
        "\n",
        "print(X_train.shape[0],X_val.shape[0],y_train.shape[0],y_val.shape[0])"
      ],
      "execution_count": 33,
      "outputs": [
        {
          "output_type": "stream",
          "text": [
            "20000 5000 20000 5000\n"
          ],
          "name": "stdout"
        }
      ]
    },
    {
      "cell_type": "code",
      "metadata": {
        "id": "sdljschcCxjK",
        "colab_type": "code",
        "outputId": "8b903050-80c3-43fe-a091-2a5cf9ea84cb",
        "colab": {
          "base_uri": "https://localhost:8080/",
          "height": 503
        }
      },
      "source": [
        "# First modle \n",
        "from keras.utils import plot_model\n",
        "from keras.layers import Input,Embedding,Conv1D,concatenate,GlobalMaxPooling1D\n",
        "from keras.layers import Dropout,Dense\n",
        "from keras.models import Model\n",
        "from keras import regularizers\n",
        "\n",
        "\n",
        "start=Input(shape=(sent_size,))\n",
        "embd=Embedding(vocb_size,50)(start)\n",
        "\n",
        "cnv1=Conv1D(250,3, padding='same' ,activation='relu')(embd)\n",
        "cnv2=Conv1D(250,4, padding='same' ,activation='relu')(embd)\n",
        "cnv3=Conv1D(250,5, padding='same' ,activation='relu')(embd)\n",
        "\n",
        "\n",
        "mrg = concatenate([cnv1, cnv2,cnv3])\n",
        "\n",
        "mrg=GlobalMaxPooling1D()(mrg)\n",
        "mrg= Dropout(0.2)(mrg)\n",
        "# mrg=Dense(10, activation='relu')(mrg)\n",
        "# mrg= Dropout(0.4)(mrg)\n",
        "\n",
        "\n",
        "out=Dense(1, activation='sigmoid')(mrg)\n",
        "model = Model(start,out)\n",
        "model.summary()\n"
      ],
      "execution_count": 34,
      "outputs": [
        {
          "output_type": "stream",
          "text": [
            "Model: \"model_3\"\n",
            "__________________________________________________________________________________________________\n",
            "Layer (type)                    Output Shape         Param #     Connected to                     \n",
            "==================================================================================================\n",
            "input_3 (InputLayer)            (None, 800)          0                                            \n",
            "__________________________________________________________________________________________________\n",
            "embedding_3 (Embedding)         (None, 800, 50)      500000      input_3[0][0]                    \n",
            "__________________________________________________________________________________________________\n",
            "conv1d_7 (Conv1D)               (None, 800, 250)     37750       embedding_3[0][0]                \n",
            "__________________________________________________________________________________________________\n",
            "conv1d_8 (Conv1D)               (None, 800, 250)     50250       embedding_3[0][0]                \n",
            "__________________________________________________________________________________________________\n",
            "conv1d_9 (Conv1D)               (None, 800, 250)     62750       embedding_3[0][0]                \n",
            "__________________________________________________________________________________________________\n",
            "concatenate_3 (Concatenate)     (None, 800, 750)     0           conv1d_7[0][0]                   \n",
            "                                                                 conv1d_8[0][0]                   \n",
            "                                                                 conv1d_9[0][0]                   \n",
            "__________________________________________________________________________________________________\n",
            "global_max_pooling1d_3 (GlobalM (None, 750)          0           concatenate_3[0][0]              \n",
            "__________________________________________________________________________________________________\n",
            "dropout_3 (Dropout)             (None, 750)          0           global_max_pooling1d_3[0][0]     \n",
            "__________________________________________________________________________________________________\n",
            "dense_3 (Dense)                 (None, 1)            751         dropout_3[0][0]                  \n",
            "==================================================================================================\n",
            "Total params: 651,501\n",
            "Trainable params: 651,501\n",
            "Non-trainable params: 0\n",
            "__________________________________________________________________________________________________\n"
          ],
          "name": "stdout"
        }
      ]
    },
    {
      "cell_type": "code",
      "metadata": {
        "id": "ruBo8gsoD3qp",
        "colab_type": "code",
        "outputId": "988bbc38-7277-4aaf-acca-9bc746da3747",
        "colab": {
          "base_uri": "https://localhost:8080/",
          "height": 661
        }
      },
      "source": [
        "plot_model(model)"
      ],
      "execution_count": 35,
      "outputs": [
        {
          "output_type": "execute_result",
          "data": {
            "image/png": "[encoded data removed]",
            "text/plain": [
              "<IPython.core.display.Image object>"
            ]
          },
          "metadata": {
            "tags": []
          },
          "execution_count": 35
        }
      ]
    },
    {
      "cell_type": "code",
      "metadata": {
        "id": "lTG5JuQgR5fZ",
        "colab_type": "code",
        "colab": {}
      },
      "source": [
        "model.compile(optimizer='adam',\n",
        "              loss='binary_crossentropy',\n",
        "              metrics=['accuracy'])"
      ],
      "execution_count": 0,
      "outputs": []
    },
    {
      "cell_type": "code",
      "metadata": {
        "id": "tKvB_YXnSF_6",
        "colab_type": "code",
        "outputId": "fe61392a-06ba-4434-857f-41a3cc951d00",
        "colab": {
          "base_uri": "https://localhost:8080/",
          "height": 208
        }
      },
      "source": [
        "history=model.fit(X_train, y_train, \n",
        "          validation_data=(X_val, y_val),\n",
        "          epochs=5, batch_size=64, verbose=1)"
      ],
      "execution_count": 37,
      "outputs": [
        {
          "output_type": "stream",
          "text": [
            "Train on 20000 samples, validate on 5000 samples\n",
            "Epoch 1/5\n",
            "20000/20000 [==============================] - 27s 1ms/step - loss: 0.4575 - acc: 0.7735 - val_loss: 0.2988 - val_acc: 0.8780\n",
            "Epoch 2/5\n",
            "20000/20000 [==============================] - 26s 1ms/step - loss: 0.2295 - acc: 0.9090 - val_loss: 0.2629 - val_acc: 0.8950\n",
            "Epoch 3/5\n",
            "20000/20000 [==============================] - 26s 1ms/step - loss: 0.1308 - acc: 0.9553 - val_loss: 0.2757 - val_acc: 0.8970\n",
            "Epoch 4/5\n",
            "20000/20000 [==============================] - 26s 1ms/step - loss: 0.0670 - acc: 0.9805 - val_loss: 0.3261 - val_acc: 0.8902\n",
            "Epoch 5/5\n",
            "20000/20000 [==============================] - 26s 1ms/step - loss: 0.0294 - acc: 0.9931 - val_loss: 0.3725 - val_acc: 0.8880\n"
          ],
          "name": "stdout"
        }
      ]
    },
    {
      "cell_type": "code",
      "metadata": {
        "id": "teVS7WhNLFtP",
        "colab_type": "code",
        "outputId": "33f3a310-2392-4269-c6a9-08f76f2b9d9d",
        "colab": {
          "base_uri": "https://localhost:8080/",
          "height": 337
        }
      },
      "source": [
        "plot_history(history)\n"
      ],
      "execution_count": 38,
      "outputs": [
        {
          "output_type": "display_data",
          "data": {
            "image/png": "[encoded data removed]",
            "text/plain": [
              "<Figure size 864x360 with 2 Axes>"
            ]
          },
          "metadata": {
            "tags": []
          }
        }
      ]
    },
    {
      "cell_type": "code",
      "metadata": {
        "id": "eErttMhZSVsX",
        "colab_type": "code",
        "outputId": "5d438380-f63a-42a0-e769-b6938e9cd3a3",
        "colab": {
          "base_uri": "https://localhost:8080/",
          "height": 104
        }
      },
      "source": [
        "# The modle's accuracy on both training and testing sets\n",
        "loss, accuracy = model.evaluate(X_val, y_val, verbose=True)\n",
        "print(\"Training Accuracy:  {:.4f}\\n\".format(accuracy))\n",
        "\n",
        "loss, accuracy = model.evaluate(X_test, labels, verbose=True)\n",
        "print(\"Testing Accuracy:  {:.4f}\".format(accuracy))"
      ],
      "execution_count": 39,
      "outputs": [
        {
          "output_type": "stream",
          "text": [
            "5000/5000 [==============================] - 2s 386us/step\n",
            "Training Accuracy:  0.8880\n",
            "\n",
            "25000/25000 [==============================] - 10s 388us/step\n",
            "Testing Accuracy:  0.8774\n"
          ],
          "name": "stdout"
        }
      ]
    },
    {
      "cell_type": "code",
      "metadata": {
        "colab_type": "code",
        "id": "KfKwVUcwcvjE",
        "outputId": "6e009f7c-036b-441c-906d-c2552dee71de",
        "colab": {
          "base_uri": "https://localhost:8080/",
          "height": 503
        }
      },
      "source": [
        "# The final modle \n",
        "from keras.utils import plot_model\n",
        "from keras.layers import Input,Embedding,Conv1D,concatenate,GlobalMaxPooling1D\n",
        "from keras.layers import Dropout,Dense\n",
        "from keras.models import Model\n",
        "from keras import regularizers\n",
        "\n",
        "\n",
        "start=Input(shape=(sent_size,))\n",
        "embd=Embedding(vocb_size,100)(start)\n",
        "\n",
        "cnv1=Conv1D(128,3, padding='same' ,activation='relu')(embd)\n",
        "cnv2=Conv1D(128,4, padding='same' ,activation='relu')(embd)\n",
        "cnv3=Conv1D(128,5, padding='same' ,activation='relu')(embd)\n",
        "\n",
        "\n",
        "mrg = concatenate([cnv1,cnv2, cnv3])\n",
        "\n",
        "mrg=GlobalMaxPooling1D()(mrg)\n",
        "mrg= Dropout(0.2)(mrg)\n",
        "# mrg=Dense(10, activation='relu')(mrg)\n",
        "# mrg= Dropout(0.4)(mrg)\n",
        "\n",
        "\n",
        "out=Dense(1, activation='sigmoid')(mrg)\n",
        "model = Model(start,out)\n",
        "model.summary()\n"
      ],
      "execution_count": 40,
      "outputs": [
        {
          "output_type": "stream",
          "text": [
            "Model: \"model_4\"\n",
            "__________________________________________________________________________________________________\n",
            "Layer (type)                    Output Shape         Param #     Connected to                     \n",
            "==================================================================================================\n",
            "input_4 (InputLayer)            (None, 800)          0                                            \n",
            "__________________________________________________________________________________________________\n",
            "embedding_4 (Embedding)         (None, 800, 100)     1000000     input_4[0][0]                    \n",
            "__________________________________________________________________________________________________\n",
            "conv1d_10 (Conv1D)              (None, 800, 128)     38528       embedding_4[0][0]                \n",
            "__________________________________________________________________________________________________\n",
            "conv1d_11 (Conv1D)              (None, 800, 128)     51328       embedding_4[0][0]                \n",
            "__________________________________________________________________________________________________\n",
            "conv1d_12 (Conv1D)              (None, 800, 128)     64128       embedding_4[0][0]                \n",
            "__________________________________________________________________________________________________\n",
            "concatenate_4 (Concatenate)     (None, 800, 384)     0           conv1d_10[0][0]                  \n",
            "                                                                 conv1d_11[0][0]                  \n",
            "                                                                 conv1d_12[0][0]                  \n",
            "__________________________________________________________________________________________________\n",
            "global_max_pooling1d_4 (GlobalM (None, 384)          0           concatenate_4[0][0]              \n",
            "__________________________________________________________________________________________________\n",
            "dropout_4 (Dropout)             (None, 384)          0           global_max_pooling1d_4[0][0]     \n",
            "__________________________________________________________________________________________________\n",
            "dense_4 (Dense)                 (None, 1)            385         dropout_4[0][0]                  \n",
            "==================================================================================================\n",
            "Total params: 1,154,369\n",
            "Trainable params: 1,154,369\n",
            "Non-trainable params: 0\n",
            "__________________________________________________________________________________________________\n"
          ],
          "name": "stdout"
        }
      ]
    },
    {
      "cell_type": "code",
      "metadata": {
        "id": "qm9HDT5Kd2Mk",
        "colab_type": "code",
        "colab": {
          "base_uri": "https://localhost:8080/",
          "height": 661
        },
        "outputId": "b4eb0487-69d4-4b28-adc1-28364d6dbcf5"
      },
      "source": [
        "plot_model(model)"
      ],
      "execution_count": 50,
      "outputs": [
        {
          "output_type": "execute_result",
          "data": {
            "image/png": "[encoded data removed]",
            "text/plain": [
              "<IPython.core.display.Image object>"
            ]
          },
          "metadata": {
            "tags": []
          },
          "execution_count": 50
        }
      ]
    },
    {
      "cell_type": "code",
      "metadata": {
        "id": "2SAUJR1ZdN4E",
        "colab_type": "code",
        "colab": {}
      },
      "source": [
        "model.compile(optimizer='adam',\n",
        "              loss='binary_crossentropy',\n",
        "              metrics=['accuracy'])"
      ],
      "execution_count": 0,
      "outputs": []
    },
    {
      "cell_type": "code",
      "metadata": {
        "id": "HnlvYGCudr3g",
        "colab_type": "code",
        "outputId": "e410d1b1-107e-4346-c6cb-25cdb79083d6",
        "colab": {
          "base_uri": "https://localhost:8080/",
          "height": 104
        }
      },
      "source": [
        "history=model.fit(X_train, y_train, \n",
        "          validation_data=(X_val, y_val),\n",
        "          epochs=2, batch_size=64, verbose=1)"
      ],
      "execution_count": 42,
      "outputs": [
        {
          "output_type": "stream",
          "text": [
            "Train on 20000 samples, validate on 5000 samples\n",
            "Epoch 1/2\n",
            "20000/20000 [==============================] - 21s 1ms/step - loss: 0.4573 - acc: 0.7741 - val_loss: 0.2982 - val_acc: 0.8730\n",
            "Epoch 2/2\n",
            "20000/20000 [==============================] - 20s 1ms/step - loss: 0.2305 - acc: 0.9088 - val_loss: 0.2497 - val_acc: 0.8982\n"
          ],
          "name": "stdout"
        }
      ]
    },
    {
      "cell_type": "code",
      "metadata": {
        "colab_type": "code",
        "id": "7WoVuusddVOn",
        "outputId": "05205d1e-a655-41b6-ced1-d6740a2e5f2d",
        "colab": {
          "base_uri": "https://localhost:8080/",
          "height": 104
        }
      },
      "source": [
        "# Final modle's accuracy for training and testing sets\n",
        "\n",
        "loss, accuracy = model.evaluate(X_val, y_val, verbose=True)\n",
        "print(\"Training Accuracy:  {:.4f}\\n\".format(accuracy))\n",
        "\n",
        "loss, accuracy = model.evaluate(X_test, labels, verbose=True)\n",
        "print(\"Testing Accuracy:  {:.4f}\".format(accuracy))"
      ],
      "execution_count": 43,
      "outputs": [
        {
          "output_type": "stream",
          "text": [
            "5000/5000 [==============================] - 2s 314us/step\n",
            "Training Accuracy:  0.8982\n",
            "\n",
            "25000/25000 [==============================] - 8s 314us/step\n",
            "Testing Accuracy:  0.8938\n"
          ],
          "name": "stdout"
        }
      ]
    },
    {
      "cell_type": "code",
      "metadata": {
        "id": "q75ZbgBmdeJ_",
        "colab_type": "code",
        "colab": {}
      },
      "source": [
        "# extractin the confusion matrix\n",
        "from sklearn.metrics import confusion_matrix\n",
        "y_pred=model.predict(X_test)\n",
        "pre=[1 if i>0.5 else 0 for i in y_pred]\n",
        "\n",
        "# #con_mat = tf.math.confusion_matrix(labels=labels, predictions= np.argmax(y_pred,axis=1)).numpy()\n",
        "matrix =confusion_matrix(labels, pre)"
      ],
      "execution_count": 0,
      "outputs": []
    },
    {
      "cell_type": "code",
      "metadata": {
        "id": "fMypPaUcyHcL",
        "colab_type": "code",
        "colab": {
          "base_uri": "https://localhost:8080/",
          "height": 52
        },
        "outputId": "adcadafd-39f5-4aed-83c8-e4f9ef9d0893"
      },
      "source": [
        "matrix"
      ],
      "execution_count": 45,
      "outputs": [
        {
          "output_type": "execute_result",
          "data": {
            "text/plain": [
              "array([[11291,  1209],\n",
              "       [ 1445, 11055]])"
            ]
          },
          "metadata": {
            "tags": []
          },
          "execution_count": 45
        }
      ]
    },
    {
      "cell_type": "code",
      "metadata": {
        "id": "LYHH4Ndcnon9",
        "colab_type": "code",
        "colab": {
          "base_uri": "https://localhost:8080/",
          "height": 340
        },
        "outputId": "52d38c2c-b218-402e-94e0-887f2c93f15d"
      },
      "source": [
        "import seaborn as sns\n",
        "figure = plt.figure(figsize=(5, 5))\n",
        "sns.heatmap(matrix, annot=True,cmap=plt.cm.Blues, cbar=False)\n",
        "#plt.tight_layout()\n",
        "plt.ylabel('True label')\n",
        "plt.xlabel('Predicted label')\n",
        "plt.show()"
      ],
      "execution_count": 46,
      "outputs": [
        {
          "output_type": "display_data",
          "data": {
            "image/png": "[encoded data removed]",
            "text/plain": [
              "<Figure size 360x360 with 1 Axes>"
            ]
          },
          "metadata": {
            "tags": []
          }
        }
      ]
    },
    {
      "cell_type": "code",
      "metadata": {
        "id": "2zGAl0LSQ9d1",
        "colab_type": "code",
        "colab": {
          "base_uri": "https://localhost:8080/",
          "height": 211
        },
        "outputId": "ee8656f7-f661-48e2-bb42-94508933da19"
      },
      "source": [
        "# Loading and testing the Joker's 2019 movie\n",
        "joker=[]\n",
        "for line in open('/content/drive/My Drive/joker.txt','r'):\n",
        "  joker.append(line.strip())\n",
        "\n",
        "joker"
      ],
      "execution_count": 47,
      "outputs": [
        {
          "output_type": "execute_result",
          "data": {
            "text/plain": [
              "[\"Tries too hard to be edgy, takes itself too serious. In result becomes largely pretentious and not nearly as original, smart and subversive as it tries to be. It has teenage sort of angst, self0 importance and pseudo profound darkness. Will make many believe it's deep, intellectual, complicated work of art so they are therefore nonconformist connoisseurs for liking it with subtle insight in psychology and society inner workings. Quite superficial and doesn't have much meaningful things to say, it's hollow and soulless, feels contrived rather than authentic commentary on our times, lacks something real and human. Nothing brave or revelatory here either, this story had been told before. A misunderstood tortured antihero against the cruel clown world that slights him. Tries to be a cautionary tale but at the same time it's a glorified power fantasy. Joker transforms from pathetic to crazy badass empowering himself while enacting revenge and gaining notoriety for it. The issues are portrayed extremely surface level and the director feels superior for adopting the middleground position, both sides of the conflict are sides of the same coin while he's above and outside of the mess for seeing it this way. Ultimately what the movie tries to convey? Rich are bad but the anti-rich are deranged murderers? Treat people bad and they become dangerously violent? See what you made him do?\",\n",
              " 'As The Times said it \\'\\'Joker wants to be a movie about the emptiness of our culture. Instead, It\\'s a prime example of It\\'\\' . Until now, the only review of this movie that I 100% agree with is the review from The Times. I stole the title of this review because it just hits the nail on the head. In the first impulse, I didn\\'t even want to watch this movie, because I\\'m just fed up with the Joker. DC has many, much more interesting villains than Joker. It\\'s time to tell stories about them and not constantly repeat the Joker\\'s story, where there is no chance to say anything new, because in fact the Joker is not an interesting story at all. A rejected, angry man, who fails in life, a clown who becomes a killer - history as old as the world. Everything that could be said about Joker, said Nolan in the Dark Knight, plus various comics and yes - Batman and Joker cartoons too. Nolan also told the Joker story more subtly than this movie, Nolan\\'s dialogues are much better, simply in their own league. People who, I already see, are beginning to claim in the reviews, that it is only this film that fully reflects the depth of the Joker character, or that it is such a successful \\'\\' artistic \\'\\' film - they simply try to cast a spell on reality, giving the film a meaning that doesn\\'t exist .I know what Phoenix tried to do here - he chose the form of \\'performance\\' as acting, that is, there is performance in the performance. The depth was supposed to be inside, between the lines, but unfortunately the effect is quite different - the whole film, like this role, is a Russian babushka: empty inside, you can open subsequent layers and there is nothing, no message, there is just another empty doll, which in the movie is just another empty, technical exercise in acting and filmmaking.I will quote the Times review again, because it is excellent at exposing the shallowness and pseudo-artistic nature of this film : \\'\\'Joker - which was written by Phillips and Scott Silver - doesn\\'t have a plot; it\\'s more like a bunch of reaction GIFs strung together. When Arthur gets fired from his clown job, he struts by the time-clock, deadpans, \"Oh no, I forgot to punch out\" and then, wait for it, socks it so hard it dangles from the wall. Make a note of the moment, because you\\'ll be seeing it a lot in your Twitter and Facebook feeds.The movie\\'s cracks - and it\\'s practically all cracks - are stuffed with phony philosophy. Joker is dark only in a stupidly adolescent way, but it wants us to think it\\'s imparting subtle political or cultural wisdom. Just before one of his more violent tirades, Arthur muses, \"Everybody just screams at each other. Nobody\\'s civil anymore.\" Who doesn\\'t feel that way in our terrible modern times? But Arthur\\'s observation is one of those truisms that\\'s so true it just slides off the wall, a message that both the left and the right can get behind and use for their own aims. It means nothing.\\'\\' I could leave it here, but I\\'ll add one more thing : what was great about Nolan was that Nolan was able to combine the features of commercial, mainstream and independent film, and what he said was authentic. This accusation, which Nolan haters often say - that Nolan is pretentious is not true, especially in Dark Knight trilogy (because I can agree that Inception is terribly pretentious). Whereas Joker by Todd Philiphs is the quintessence of pretentiousness. There is nothing authentic in this movie. This is a collection of cheap fanfiction, quotes from movies like Taxi Driver, poured with cheap sauce of pop culture tricks. Phoenix battered body twists and turns on the screen, but there is no soul in this creation. This role is empty, just like the whole movie. Time to say goodbye to Joker, DC. You have much better villains in your stable, whose story can be fascinated to tell. The Joker ceased to be interesting long time ago. Btw, Batman has always been a more interesting character to me, because although he is a superhero, he is also the only such a popular superhero who has so much darkness, killer impulse, but also humanity from his father inside (and Bale showed all of this masterfully in Nolan trilogy). The ambivalence is fascinating here. The Joker is a wounded clown, nihilist, murderer. This story is told in the cinema several times a year. There is nothing fresh or interesting about it.',\n",
              " \"I don't see how that highly intelligent Joker on Dark Night started from this insane person. The Joker on The Dark Night is a highly intelligent person who holds deep conversations with prominent people, capable of planning a complicated bank robbery and was one step ahead of Batman, the police and intelligence. He has a strong personality free from emotionality and he laughed controllably. I can't see how this mentally unstable person on this Joker becomes that awesome Joker.\",\n",
              " \"Choker - Why so serious? You'd think from the trailers you're getting a masterpiece, but it's really just 2 hours of closeups of Joaquim Phoenix face making pained expressions. By the end of the movie, you'll wish you had gone to see It Pt 2 instead, because least that clown was interesting. Too serious for its own good. This movie is going to be a Choker, it's not going to do well. Todd Philips should stick to Hangover movies.\",\n",
              " \"Is this a joke?! I just watched the movie and I literally choked of how bored I was jesus good performance by Joaquin for the rest it's not but trash tragic story about a tragic clown I would rather watch Suicide Squad then this\",\n",
              " \"As a viewer that actually went to TIFF and witnessed this film and didn't want to believe the hype, it is an absolute MASTERPIECE and Phoenix is a certified legend. I was a person that saw all the hype and claims of masterpiece as overreacting and overblown excitement for another Joker based film. I thought this looked solid at best and even a bit too pretentious in the trailer, but in here to say I was incredibly wrong. This is a massive achievement of cinema that's extremely rare in a day and age of cgi nonsense and reboots. While this is somewhat of a reboot of sorts, the standalone origin tale is impeccable from start to finish and echoes resemblance to the best joker origin comics from the past. Joaquin bleeds, sweats, and cries his every drop into this magnificently dedicated performance. Heath Ledger would be proud. This is undoubtedly the greatest acting performance since Heath's joker. The directing and writing is slickly brilliant and the bleak settings and tones are palpable throughout. When this film was over the place was blown away and every audience member was awestruck that they witnessed a film that could still transport them into a character's world and very existence. Believe the hype. This is going to be revered as a transcending masterpiece of cinema.\",\n",
              " \"Outstanding movie with a haunting performance and best character development ever seen. Every once in a while a movie comes, that truly makes an impact. Joaquin's performance and scenography in all it's brilliance. Grotesque, haunting and cringy. Hard to watch at times,... but so mesmerizing, you won't blink an eye watching it. Tragic, but with seriously funny moments. Emotional rollercoaster - sometimes, with multiple emotions popping-up at the same time. this is far from a typical action-riddled predictable super-hero movie - it's a proper psychological thriller/drama, with the single best character development I have ever seen.\",\n",
              " 'The Hype is real. Most of the time movies are anticipated like this they end up falling short, way short. Joker is the first time I was more than happy with the hype. Please ignore the complaints of \"pernicious violence\" as they are embarrassing to say the least. If we ever \"deserved\" a better class of criminal - Phillips and Phoenix have delivered. This is dark, Joker IS dark and you will fall in love with the villain as you should. The bad guys are always more romantic anyway.',\n",
              " \"Heath Ledger would be smiling from heaven... #WhySoSerious!!! Truly a masterpiece, The Best film of 2019, one of the Best films of the decade... And TRULY the Best film to bring a comic book so chillingly and realistically to life. Remarkable Direction, Cinematography, Music and of course the Acting. As Joaquin Phoenix goes inside the character's head, the Best thing happens as we feel empathy for a psychopath who himself does not feel it. I don't understand why critics are surprised to find it DISTURBING and VIOLENT, when the title character's fans were already rooting for this. OSCARS are on their way!\",\n",
              " \"MASTERPIECE 😍. Joaquin Phoenix gives a tour de force performance, fearless and stunning in its emotional depth and physicality. It's impossible to talk about this without referencing Heath Ledger's Oscar-winning performance from The Dark Knight, widely considered the definitive live-action portrayal of the Joker, so let's talk about it. The fact is, everyone is going to be stunned by what Phoenix accomplishes, because it's what many thought impossible - a portrayal that matches and potentially exceeds that of The Dark Knight's Clown Prince of Crime\"]"
            ]
          },
          "metadata": {
            "tags": []
          },
          "execution_count": 47
        }
      ]
    },
    {
      "cell_type": "code",
      "metadata": {
        "id": "w1WLyzZdVEaj",
        "colab_type": "code",
        "colab": {
          "base_uri": "https://localhost:8080/",
          "height": 52
        },
        "outputId": "8dc00c64-d7ed-4999-9a08-d24968060b38"
      },
      "source": [
        "tag=[0 if i<5 else 1 for i in range(len(joker))]\n",
        "joker_tok =tokenize(joker,sent_size)\n",
        "\n",
        "loss, accuracy = model.evaluate(joker_tok, tag, verbose=True)\n",
        "print(\"Testing Accuracy:  {:.4f}\".format(accuracy))"
      ],
      "execution_count": 48,
      "outputs": [
        {
          "output_type": "stream",
          "text": [
            "\r10/10 [==============================] - 0s 576us/step\n",
            "Testing Accuracy:  0.9000\n"
          ],
          "name": "stdout"
        }
      ]
    },
    {
      "cell_type": "code",
      "metadata": {
        "id": "vhcHcgr0Rf46",
        "colab_type": "code",
        "colab": {
          "base_uri": "https://localhost:8080/",
          "height": 54
        },
        "outputId": "b75b5848-fb85-4bc0-8217-00daaa1816a8"
      },
      "source": [
        "jokerpred=model.predict(joker_tok)\n",
        "pred=[1 if i>0.5 else 0 for i in jokerpred]\n",
        "for i in range(len(pred)):\n",
        "    if pred[i]!=tag[i]:\n",
        "        print(joker[i],tag[i])\n"
      ],
      "execution_count": 49,
      "outputs": [
        {
          "output_type": "stream",
          "text": [
            "I don't see how that highly intelligent Joker on Dark Night started from this insane person. The Joker on The Dark Night is a highly intelligent person who holds deep conversations with prominent people, capable of planning a complicated bank robbery and was one step ahead of Batman, the police and intelligence. He has a strong personality free from emotionality and he laughed controllably. I can't see how this mentally unstable person on this Joker becomes that awesome Joker. 0\n"
          ],
          "name": "stdout"
        }
      ]
    },
    {
      "cell_type": "code",
      "metadata": {
        "id": "6d8P0Fckr6Im",
        "colab_type": "code",
        "colab": {
          "base_uri": "https://localhost:8080/",
          "height": 34
        },
        "outputId": "1a83ea9d-7d62-40ed-b0f8-8f7d94699d7b"
      },
      "source": [
        "with open('/content/drive/My Drive/listfile.txt','r') as f:\n",
        "  logistic=[int(i)  for i in f]\n",
        "len(logistic)"
      ],
      "execution_count": 58,
      "outputs": [
        {
          "output_type": "execute_result",
          "data": {
            "text/plain": [
              "25000"
            ]
          },
          "metadata": {
            "tags": []
          },
          "execution_count": 58
        }
      ]
    },
    {
      "cell_type": "code",
      "metadata": {
        "id": "hCPnRzw5tBBf",
        "colab_type": "code",
        "colab": {
          "base_uri": "https://localhost:8080/",
          "height": 34
        },
        "outputId": "d0f8ec46-a4c5-4e48-c172-003802024561"
      },
      "source": [
        "a,b,c,d=0,0,0,0\n",
        "for i in range(25000):\n",
        "    if pre[i]==1 and logistic[i]==1:\n",
        "        a+=1\n",
        "    if pre[i]==1 and logistic[i]==0:\n",
        "        b+=1        \n",
        "    if pre[i]==0 and logistic[i]==1:\n",
        "        c+=1\n",
        "    if pre[i]==0 and logistic[i]==0:\n",
        "        d+=1\n",
        "a,b,c,d        "
      ],
      "execution_count": 61,
      "outputs": [
        {
          "output_type": "execute_result",
          "data": {
            "text/plain": [
              "(10645, 1619, 11037, 1699)"
            ]
          },
          "metadata": {
            "tags": []
          },
          "execution_count": 61
        }
      ]
    },
    {
      "cell_type": "code",
      "metadata": {
        "id": "KspjVtF5wdb3",
        "colab_type": "code",
        "colab": {
          "base_uri": "https://localhost:8080/",
          "height": 52
        },
        "outputId": "b70106d5-6a35-45b3-d08e-92d481989911"
      },
      "source": [
        "from statsmodels.stats.contingency_tables import mcnemar\n",
        "# define contingency table\n",
        "table = [[a, b],\n",
        "\t\t [c, d]]\n",
        "# calculate mcnemar test\n",
        "result = mcnemar(table, exact=True)\n",
        "# summarize the finding\n",
        "print('statistic=%.3f, p-value=%.3f' % (result.statistic, result.pvalue))\n",
        "# interpret the p-value\n",
        "alpha = 0.05\n",
        "if result.pvalue > alpha:\n",
        "\tprint('Same proportions of errors (fail to reject H0)')\n",
        "else:\n",
        "\tprint('Different proportions of errors (reject H0)')"
      ],
      "execution_count": 65,
      "outputs": [
        {
          "output_type": "stream",
          "text": [
            "statistic=1619.000, p-value=0.000\n",
            "Different proportions of errors (reject H0)\n"
          ],
          "name": "stdout"
        }
      ]
    },
    {
      "cell_type": "code",
      "metadata": {
        "id": "eFMv29Bmx5SW",
        "colab_type": "code",
        "colab": {}
      },
      "source": [
        ""
      ],
      "execution_count": 0,
      "outputs": []
    }
  ]
}