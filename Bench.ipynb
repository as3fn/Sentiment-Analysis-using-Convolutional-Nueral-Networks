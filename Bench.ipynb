{
  "nbformat": 4,
  "nbformat_minor": 0,
  "metadata": {
    "colab": {
      "name": "Bench.ipynb",
      "provenance": [],
      "collapsed_sections": []
    },
    "kernelspec": {
      "name": "python3",
      "display_name": "Python 3"
    },
    "accelerator": "GPU"
  },
  "cells": [
    {
      "cell_type": "code",
      "metadata": {
        "id": "WtRIYxvmZKvH",
        "colab_type": "code",
        "outputId": "812ac700-f992-4b90-c290-f58e843c7c17",
        "colab": {
          "base_uri": "https://localhost:8080/",
          "height": 124
        }
      },
      "source": [
        "from google.colab import drive\n",
        "drive.mount('/content/drive')"
      ],
      "execution_count": 3,
      "outputs": [
        {
          "output_type": "stream",
          "text": [
            "Go to this URL in a browser: https://accounts.google.com/o/oauth2/auth?client_id=947318989803-6bn6qk8qdgf4n4g3pfee6491hc0brc4i.apps.googleusercontent.com&redirect_uri=urn%3Aietf%3Awg%3Aoauth%3A2.0%3Aoob&scope=email%20https%3A%2F%2Fwww.googleapis.com%2Fauth%2Fdocs.test%20https%3A%2F%2Fwww.googleapis.com%2Fauth%2Fdrive%20https%3A%2F%2Fwww.googleapis.com%2Fauth%2Fdrive.photos.readonly%20https%3A%2F%2Fwww.googleapis.com%2Fauth%2Fpeopleapi.readonly&response_type=code\n",
            "\n",
            "Enter your authorization code:\n",
            "··········\n",
            "Mounted at /content/drive\n"
          ],
          "name": "stdout"
        }
      ]
    },
    {
      "cell_type": "code",
      "metadata": {
        "id": "7pcE0qi6bI-A",
        "colab_type": "code",
        "outputId": "27405e76-ccfe-46f9-aa18-98f060c936bc",
        "colab": {
          "base_uri": "https://localhost:8080/",
          "height": 52
        }
      },
      "source": [
        "# Import the data into python lists\n",
        "\n",
        "train_raw=[]\n",
        "for line in open('/content/drive/My Drive/movie_data/full_train.txt','r'):\n",
        "  train_raw.append(line.strip())\n",
        "  \n",
        "test_raw=[]\n",
        "for line in open('/content/drive/My Drive/movie_data/full_test.txt','r'):\n",
        "  test_raw.append(line.strip())\n",
        "  \n",
        "    \n",
        "    \n",
        "    \n",
        "print(len(train_raw))\n",
        "print(len(test_raw))"
      ],
      "execution_count": 4,
      "outputs": [
        {
          "output_type": "stream",
          "text": [
            "25000\n",
            "25000\n"
          ],
          "name": "stdout"
        }
      ]
    },
    {
      "cell_type": "code",
      "metadata": {
        "id": "vc0rPAcpu5PY",
        "colab_type": "code",
        "outputId": "81b92a51-8609-4565-eaa1-b4a3cf110e4c",
        "colab": {
          "base_uri": "https://localhost:8080/",
          "height": 54
        }
      },
      "source": [
        "train_raw[900]    \n",
        "     "
      ],
      "execution_count": 5,
      "outputs": [
        {
          "output_type": "execute_result",
          "data": {
            "text/plain": [
              "'Very nicely done movie. It does stay in your memory. Better billed as a romance than flying or war, altho the flying parts are realistic and almost error free. Flying buffs like myself will enjoy this movie even if attracted by the airplanes, unless they have no sensitivity or have never been in love.<br /><br />Fun watching early Crowe. He is good and exudes charm. His reading of \"High Flight\" is superb.<br /><br />cheers, Boom'"
            ]
          },
          "metadata": {
            "tags": []
          },
          "execution_count": 5
        }
      ]
    },
    {
      "cell_type": "code",
      "metadata": {
        "id": "TeJ-mbAy9L_S",
        "colab_type": "code",
        "outputId": "3ac4c2c7-108d-45f9-881c-b532021d4b77",
        "colab": {
          "base_uri": "https://localhost:8080/",
          "height": 434
        }
      },
      "source": [
        "# Find Statistics about the dataset\n",
        "\n",
        "import numpy as np\n",
        "mylen = np.vectorize(len)\n",
        "\n",
        "alwords=[]\n",
        "\n",
        "for rev in train_raw:\n",
        "    for word in rev.split():\n",
        "        alwords.append(word.lower())\n",
        "\n",
        "\n",
        "print ('The stats of the train dataset')\n",
        "print('Mean: %f' %mylen(train_raw).mean())\n",
        "print('Median: %f' %np.median(mylen(train_raw)))\n",
        "print('Mininum: %f'%mylen(train_raw).min())\n",
        "print('Maxaimum: %f '%mylen(train_raw).max())\n",
        "print('Std: %f '%mylen(train_raw).std())\n",
        "print('Total # of words: %d' %len(alwords))\n",
        "print('Total # of vocabulary: %d\\n\\n' %len(set(alwords)))\n",
        "\n",
        "\n",
        "print ('The stats of the positive reviews')\n",
        "print('Mean: %f' %mylen(train_raw[:12500]).mean())\n",
        "print('Median: %f' %np.median(mylen(train_raw[:12500])))\n",
        "print('Mininum: %f'%mylen(train_raw[:12500]).min())\n",
        "print('Maxaimum: %f \\n\\n'%mylen(train_raw[:12500]).max())\n",
        "\n",
        "\n",
        "print ('The stats of the negative reviews')\n",
        "print('Mean: %f' %mylen(train_raw[12500:]).mean())\n",
        "print('Median: %f' %np.median(mylen(train_raw[12500:])))\n",
        "print('Mininum: %f'%mylen(train_raw[12500:]).min())\n",
        "print('Maxaimum: %f \\n\\n'%mylen(train_raw[12500:]).max())\n"
      ],
      "execution_count": 6,
      "outputs": [
        {
          "output_type": "stream",
          "text": [
            "The stats of the train dataset\n",
            "Mean: 1325.068600\n",
            "Median: 979.000000\n",
            "Mininum: 52.000000\n",
            "Maxaimum: 13704.000000 \n",
            "Std: 1003.112772 \n",
            "Total # of words: 5844680\n",
            "Total # of vocabulary: 251637\n",
            "\n",
            "\n",
            "The stats of the positive reviews\n",
            "Mean: 1347.159040\n",
            "Median: 982.000000\n",
            "Mininum: 70.000000\n",
            "Maxaimum: 13704.000000 \n",
            "\n",
            "\n",
            "The stats of the negative reviews\n",
            "Mean: 1302.978160\n",
            "Median: 976.500000\n",
            "Mininum: 52.000000\n",
            "Maxaimum: 8969.000000 \n",
            "\n",
            "\n"
          ],
          "name": "stdout"
        }
      ]
    },
    {
      "cell_type": "code",
      "metadata": {
        "id": "2MyRkGwqt6k9",
        "colab_type": "code",
        "outputId": "9940d575-cd80-4fa3-ba3c-65c089b55a84",
        "colab": {
          "base_uri": "https://localhost:8080/",
          "height": 54
        }
      },
      "source": [
        "# Cleaning the datasets\n",
        "\n",
        "import re\n",
        "def get_clean(data):\n",
        "    \n",
        "    data=[re.sub('<.*?>',' ',doc) for doc in data]\n",
        "    return data\n",
        "        \n",
        "cleantrain=get_clean(train_raw)\n",
        "cleantest=get_clean(test_raw)\n",
        "cleantrain[900]"
      ],
      "execution_count": 7,
      "outputs": [
        {
          "output_type": "execute_result",
          "data": {
            "text/plain": [
              "'Very nicely done movie. It does stay in your memory. Better billed as a romance than flying or war, altho the flying parts are realistic and almost error free. Flying buffs like myself will enjoy this movie even if attracted by the airplanes, unless they have no sensitivity or have never been in love.  Fun watching early Crowe. He is good and exudes charm. His reading of \"High Flight\" is superb.  cheers, Boom'"
            ]
          },
          "metadata": {
            "tags": []
          },
          "execution_count": 7
        }
      ]
    },
    {
      "cell_type": "code",
      "metadata": {
        "id": "xK8zgFBb0KJb",
        "colab_type": "code",
        "outputId": "224be642-e899-4b84-a8de-c8f737662cb6",
        "colab": {
          "base_uri": "https://localhost:8080/",
          "height": 445
        }
      },
      "source": [
        "# viualization of the review length frequncy\n",
        "\n",
        "import matplotlib.pyplot as plt\n",
        "%matplotlib inline\n",
        "plt.rcParams.update({'figure.figsize':(10,10), 'figure.dpi':100})\n",
        "\n",
        "plt.subplot(2, 2, 1)\n",
        "x = mylen(cleantrain[:12500])\n",
        "plt.hist(x, bins=30)\n",
        "plt.gca().set(title='Positive Frequency Histogram',xlabel='Review Lenght', ylabel=' Frequency');\n",
        "\n",
        "plt.subplot(2, 2, 2)\n",
        "x = mylen(cleantrain[12500:])\n",
        "plt.hist(x, bins=30)\n",
        "plt.gca().set(title='Negative Frequency Histogram',xlabel='Review Lenght', ylabel=' Frequency');\n",
        "\n",
        "plt.show()\n"
      ],
      "execution_count": 8,
      "outputs": [
        {
          "output_type": "display_data",
          "data": {
            "image/png": "[encoded data removed]",
            "text/plain": [
              "<Figure size 1000x1000 with 2 Axes>"
            ]
          },
          "metadata": {
            "tags": []
          }
        }
      ]
    },
    {
      "cell_type": "code",
      "metadata": {
        "id": "dzOILRFPltO-",
        "colab_type": "code",
        "colab": {}
      },
      "source": [
        "labels=[1 if i <12500 else 0 for i in range(25000)]\n",
        "\n"
      ],
      "execution_count": 0,
      "outputs": []
    },
    {
      "cell_type": "code",
      "metadata": {
        "id": "Wh9yxKpwlMJc",
        "colab_type": "code",
        "colab": {}
      },
      "source": [
        "from sklearn.feature_extraction.text import CountVectorizer\n",
        "\n",
        "vec=CountVectorizer(binary=True)\n",
        "vec.fit(cleantrain)\n",
        "X = vec.transform(cleantrain)\n",
        "X_test = vec.transform(cleantest)"
      ],
      "execution_count": 0,
      "outputs": []
    },
    {
      "cell_type": "code",
      "metadata": {
        "id": "BF-BH0t0o39s",
        "colab_type": "code",
        "outputId": "456b1d64-29b6-4054-cae9-3ed2ce9ffaed",
        "colab": {
          "base_uri": "https://localhost:8080/",
          "height": 89
        }
      },
      "source": [
        "from sklearn.linear_model import LogisticRegression\n",
        "from sklearn.metrics import accuracy_score\n",
        "from sklearn.model_selection import train_test_split\n",
        "\n",
        "\n",
        "\n",
        "X_train, X_val, y_train, y_val = train_test_split(X, labels, test_size=0.30, random_state=42)\n",
        "\n",
        "\n",
        "bench=LogisticRegression()\n",
        "bench.fit(X_train, y_train)\n",
        "\n",
        "print (\"Accuracy: %s\" % accuracy_score(y_val,bench.predict(X_val)))"
      ],
      "execution_count": 11,
      "outputs": [
        {
          "output_type": "stream",
          "text": [
            "/usr/local/lib/python3.6/dist-packages/sklearn/linear_model/logistic.py:432: FutureWarning: Default solver will be changed to 'lbfgs' in 0.22. Specify a solver to silence this warning.\n",
            "  FutureWarning)\n"
          ],
          "name": "stderr"
        },
        {
          "output_type": "stream",
          "text": [
            "Accuracy: 0.8717333333333334\n"
          ],
          "name": "stdout"
        }
      ]
    },
    {
      "cell_type": "code",
      "metadata": {
        "id": "EB1Vcvenqv9v",
        "colab_type": "code",
        "outputId": "b5f1d023-f193-4639-8497-277c3a1aab4f",
        "colab": {
          "base_uri": "https://localhost:8080/",
          "height": 89
        }
      },
      "source": [
        "final=LogisticRegression()\n",
        "final.fit(X,labels)\n",
        "\n",
        "print (\"Accuracy: %s\" % accuracy_score(labels,bench.predict(X_test)))"
      ],
      "execution_count": 12,
      "outputs": [
        {
          "output_type": "stream",
          "text": [
            "/usr/local/lib/python3.6/dist-packages/sklearn/linear_model/logistic.py:432: FutureWarning: Default solver will be changed to 'lbfgs' in 0.22. Specify a solver to silence this warning.\n",
            "  FutureWarning)\n"
          ],
          "name": "stderr"
        },
        {
          "output_type": "stream",
          "text": [
            "Accuracy: 0.86728\n"
          ],
          "name": "stdout"
        }
      ]
    },
    {
      "cell_type": "code",
      "metadata": {
        "id": "XtLDT0sbp_xY",
        "colab_type": "code",
        "colab": {}
      },
      "source": [
        "p=bench.predict(X_test)"
      ],
      "execution_count": 0,
      "outputs": []
    },
    {
      "cell_type": "code",
      "metadata": {
        "id": "jIZRA7-3qC6l",
        "colab_type": "code",
        "colab": {}
      },
      "source": [
        "pp=[1 if labels[i]==p[i] else 0 for i in range(25000)]"
      ],
      "execution_count": 0,
      "outputs": []
    },
    {
      "cell_type": "code",
      "metadata": {
        "id": "5e20IJqYrOBn",
        "colab_type": "code",
        "colab": {}
      },
      "source": [
        "with open('listfile.txt', 'w') as filehandle:\n",
        "    for listitem in pp:\n",
        "        filehandle.write('%s\\n' % listitem)"
      ],
      "execution_count": 0,
      "outputs": []
    },
    {
      "cell_type": "code",
      "metadata": {
        "id": "qgXG3iYDsCMZ",
        "colab_type": "code",
        "colab": {}
      },
      "source": [
        ""
      ],
      "execution_count": 0,
      "outputs": []
    }
  ]
}